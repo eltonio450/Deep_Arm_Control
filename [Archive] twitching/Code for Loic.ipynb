{
 "cells": [
  {
   "cell_type": "code",
   "execution_count": 1,
   "metadata": {
    "collapsed": true
   },
   "outputs": [],
   "source": [
    "import opensim\n",
    "import math\n",
    "import numpy as np\n",
    "import sys\n",
    "import os\n",
    "from osim.env import OsimEnv\n",
    "import os.path"
   ]
  },
  {
   "cell_type": "code",
   "execution_count": 2,
   "metadata": {
    "collapsed": true
   },
   "outputs": [],
   "source": [
    "from GaitEnv import GaitEnv\n",
    "from ArmEnv import ArmEnv\n",
    "from BioInspiredHierarchicalLearning import BioInspiredHierarchicalLearning"
   ]
  },
  {
   "cell_type": "code",
   "execution_count": 3,
   "metadata": {
    "collapsed": true
   },
   "outputs": [],
   "source": [
    "class TwitchingEnv(ArmEnv):\n",
    "    def __init__(self, visualize = False, musclesName = '', iterDuration = 4, twitchDuration = 0.05, stepsize = 0.01):\n",
    "        \n",
    "        print(\"Parameters copy...\")\n",
    "        self.model_path = './arm2dof6musc.osim'\n",
    "        folder = ''\n",
    "        self.musclesName = musclesName\n",
    "        self.current_step = 0\n",
    "   \n",
    "        print(\"Files loading...\")\n",
    "        self.sensorsFile = open('saved_sensors.csv', 'w')\n",
    "        self.actuatorsFile = open('saved_actuators.csv', 'w')\n",
    "\n",
    "        self.musclesLength = [ 0 for i in range(len(musclesName))]\n",
    "\n",
    "        print(\"Headers wirting...\")\n",
    "\n",
    "        self.writeHeaders([m + '_len' for m in self.musclesName] + [m + '_dlen' for m in self.musclesName],self.sensorsFile)\n",
    "        self.writeHeaders([m + '_a' for m in self.musclesName],self.actuatorsFile)\n",
    "        \n",
    "        print(\"GaitEnv __init__ calling...\")\n",
    "        super(TwitchingEnv, self).__init__(visualize = visualize)\n",
    "             \n",
    "        \n",
    "    def get_observations(self):\n",
    "        # Get input / outputs from open sim\n",
    "        musclesLength_new = [self.osim_model.model.getActuators().get(m).getStateVariableValues(self.osim_model.state).get(1)\n",
    "                             for m in self.musclesName]\n",
    "        musclesdLength = [ (x-y)/self.stepsize \n",
    "                          for x,y in zip( musclesLength_new, self.musclesLength) ]\n",
    "        \n",
    "        #values of the actuators\n",
    "        self.actuatorsValues = [self.osim_model.model.getActuators().get(m).getStateVariableValues(self.osim_model.state).get(0) \n",
    "                           for m in self.musclesName]\n",
    "\n",
    "        self.sensorsValues = musclesLength_new + musclesdLength \n",
    "        self.musclesLength = musclesLength_new\n",
    "        \n",
    "        return super(TwitchingEnv, self).get_observation()\n",
    "        \n",
    "\n",
    "    def writeHeaders(self,variable_names,file):\n",
    "        file.write(\"{}\\n\".format(\",\".join(variable_names)))\n",
    "    def writeContent(self,variables,file):\n",
    "        file.write(\"{}\\n\".format(\",\".join([str(x) for x in variables])))\n",
    "\n",
    "\n",
    "    def activate_muscles(self, action): # the argument action is not used\n",
    "        for j in range(self.noutput):\n",
    "            self.osim_model.model.getMuscles().get(j).setActivation(self.osim_model.state, action[j])\n",
    "\n",
    "    \n",
    "    def compute_reward(self):       \n",
    "        #reward = np.norm(musclesLength - targetsLength)\n",
    "        #reward = reward - self.meanReward\n",
    "        #self.meanReward = self.meanReward*(N-1)/N\n",
    "        \n",
    "        return 0\n",
    "    \n",
    "    def _step(self, action):\n",
    "        \n",
    "        self.activate_muscles(action)\n",
    "        obs = self.get_observations()\n",
    "        \n",
    "        # Logging\n",
    "        self.writeContent(self.sensorsValues,self.sensorsFile)\n",
    "        self.writeContent(self.actuatorsValues,self.actuatorsFile)\n",
    "\n",
    "        # Integrate one step\n",
    "        self.osim_model.manager.setInitialTime(self.stepsize * self.istep)\n",
    "        self.osim_model.manager.setFinalTime(self.stepsize * (self.istep + 1))\n",
    "\n",
    "        try:\n",
    "            self.osim_model.manager.integrate(self.osim_model.state)\n",
    "        except Exception:\n",
    "            print (\"Exception raised\")\n",
    "            return self.get_observation(), -500, True, {}\n",
    "\n",
    "        self.istep = self.istep + 1\n",
    "\n",
    "        res = [ obs, self.compute_reward(), self.is_done(), {} ]\n",
    "        return res"
   ]
  },
  {
   "cell_type": "code",
   "execution_count": 4,
   "metadata": {},
   "outputs": [
    {
     "name": "stdout",
     "output_type": "stream",
     "text": [
      "Beginning\n"
     ]
    }
   ],
   "source": [
    "print(\"Beginning\")\n",
    "\n",
    "# TODO ? minutes : Increase simulation duration time to M*T = 9*500\n",
    "muscle_names = [\n",
    "                \"TRIlong\",\n",
    "                \"TRIlat\",\n",
    "                \"TRImed\",\n",
    "                \"BIClong\",\n",
    "                \"BICshort\",\n",
    "                \"BRA\"    \n",
    "                ]"
   ]
  },
  {
   "cell_type": "code",
   "execution_count": 19,
   "metadata": {},
   "outputs": [],
   "source": [
    "def per(n):\n",
    "    seq = []\n",
    "    for i in range(1<<n):\n",
    "        s=bin(i)[2:]\n",
    "        s='0'*(n-len(s))+s\n",
    "        seq.append(map(int,list(s)))\n",
    "    return seq\n",
    "sequence = per(6)\n",
    "sequence = np.array(sequence).astype(float)"
   ]
  },
  {
   "cell_type": "code",
   "execution_count": 6,
   "metadata": {},
   "outputs": [
    {
     "name": "stdout",
     "output_type": "stream",
     "text": [
      "Parameters copy...\n",
      "Files loading...\n",
      "Headers wirting...\n",
      "GaitEnv __init__ calling...\n",
      "Environment stabililzation...\n",
      "Twitching [0, 0, 0, 0, 0, 0]\n",
      "Twitching [0, 0, 0, 0, 0, 1]\n",
      "Twitching [0, 0, 0, 0, 1, 0]\n",
      "Twitching [0, 0, 0, 0, 1, 1]\n",
      "Twitching [0, 0, 0, 1, 0, 0]\n",
      "Twitching [0, 0, 0, 1, 0, 1]\n",
      "Twitching [0, 0, 0, 1, 1, 0]\n",
      "Twitching [0, 0, 0, 1, 1, 1]\n",
      "Twitching [0, 0, 1, 0, 0, 0]\n",
      "Twitching [0, 0, 1, 0, 0, 1]\n",
      "Twitching [0, 0, 1, 0, 1, 0]\n",
      "Twitching [0, 0, 1, 0, 1, 1]\n",
      "Twitching [0, 0, 1, 1, 0, 0]\n",
      "Twitching [0, 0, 1, 1, 0, 1]\n",
      "Twitching [0, 0, 1, 1, 1, 0]\n",
      "Twitching [0, 0, 1, 1, 1, 1]\n",
      "Twitching [0, 1, 0, 0, 0, 0]\n",
      "Twitching [0, 1, 0, 0, 0, 1]\n",
      "Twitching [0, 1, 0, 0, 1, 0]\n",
      "Twitching [0, 1, 0, 0, 1, 1]\n",
      "Twitching [0, 1, 0, 1, 0, 0]\n",
      "Twitching [0, 1, 0, 1, 0, 1]\n",
      "Twitching [0, 1, 0, 1, 1, 0]\n",
      "Twitching [0, 1, 0, 1, 1, 1]\n",
      "Twitching [0, 1, 1, 0, 0, 0]\n",
      "Twitching [0, 1, 1, 0, 0, 1]\n",
      "Twitching [0, 1, 1, 0, 1, 0]\n",
      "Twitching [0, 1, 1, 0, 1, 1]\n",
      "Twitching [0, 1, 1, 1, 0, 0]\n",
      "Twitching [0, 1, 1, 1, 0, 1]\n",
      "Twitching [0, 1, 1, 1, 1, 0]\n",
      "Twitching [0, 1, 1, 1, 1, 1]\n",
      "Twitching [1, 0, 0, 0, 0, 0]\n",
      "Twitching [1, 0, 0, 0, 0, 1]\n",
      "Twitching [1, 0, 0, 0, 1, 0]\n",
      "Twitching [1, 0, 0, 0, 1, 1]\n",
      "Twitching [1, 0, 0, 1, 0, 0]\n",
      "Twitching [1, 0, 0, 1, 0, 1]\n",
      "Twitching [1, 0, 0, 1, 1, 0]\n",
      "Twitching [1, 0, 0, 1, 1, 1]\n",
      "Twitching [1, 0, 1, 0, 0, 0]\n",
      "Twitching [1, 0, 1, 0, 0, 1]\n",
      "Twitching [1, 0, 1, 0, 1, 0]\n",
      "Twitching [1, 0, 1, 0, 1, 1]\n",
      "Twitching [1, 0, 1, 1, 0, 0]\n",
      "Twitching [1, 0, 1, 1, 0, 1]\n",
      "Twitching [1, 0, 1, 1, 1, 0]\n",
      "Twitching [1, 0, 1, 1, 1, 1]\n",
      "Twitching [1, 1, 0, 0, 0, 0]\n",
      "Twitching [1, 1, 0, 0, 0, 1]\n",
      "Twitching [1, 1, 0, 0, 1, 0]\n",
      "Twitching [1, 1, 0, 0, 1, 1]\n",
      "Twitching [1, 1, 0, 1, 0, 0]\n",
      "Twitching [1, 1, 0, 1, 0, 1]\n",
      "Twitching [1, 1, 0, 1, 1, 0]\n",
      "Twitching [1, 1, 0, 1, 1, 1]\n",
      "Twitching [1, 1, 1, 0, 0, 0]\n",
      "Twitching [1, 1, 1, 0, 0, 1]\n",
      "Twitching [1, 1, 1, 0, 1, 0]\n",
      "Twitching [1, 1, 1, 0, 1, 1]\n",
      "Twitching [1, 1, 1, 1, 0, 0]\n",
      "Twitching [1, 1, 1, 1, 0, 1]\n",
      "Twitching [1, 1, 1, 1, 1, 0]\n",
      "Twitching [1, 1, 1, 1, 1, 1]\n"
     ]
    }
   ],
   "source": [
    "## Time parameters\n",
    "\n",
    "current_step = 0\n",
    "time_step = 0.01 # [sec]\n",
    "\n",
    "# Muscuskeletal_environment\n",
    "env = TwitchingEnv(visualize=False, musclesName = muscle_names, stepsize = time_step)\n",
    "# Neural network model\n",
    "#net = Network(...)\n",
    "\n",
    "N_tot = 2000\n",
    "# Twitching duration [nb of steps]\n",
    "N_twitch = 3\n",
    "# Resting durantion [nb of steps]\n",
    "N_rest = N_tot-N_twitch\n",
    "\n",
    "def get_time(N_steps, time_step):\n",
    "    '''\n",
    "    Args:   N_step [int] : number of steps\n",
    "            time_step [float] : duration of a single step\n",
    "    Return: duration [float] : duration of N steps\n",
    "    '''\n",
    "    return N_steps*time_step\n",
    "\n",
    "## Environment properties\n",
    "# nb of muscles\n",
    "N_muscle = 6\n",
    "# nb of sensors\n",
    "N_sensors = 12\n",
    "\n",
    "\n",
    "# SMA sequence\n",
    "record = np.zeros((N_sensors,N_muscle*N_twitch+(N_muscle+1)*N_rest))\n",
    "no_action = np.zeros((N_muscle,))\n",
    "\n",
    "# Step function\n",
    "def step(action):\n",
    "        env.step(action) # To do : modify step\n",
    "        sensors = env.sensorsValues\n",
    "        #actuators = env.actuatorsValues\n",
    "        #action = net.step(inputs)\n",
    "        \n",
    "        return sensors\n",
    "    \n",
    "## SMA process\n",
    "print('Environment stabililzation...')\n",
    "\n",
    "for i in range(2*N_tot):\n",
    "    sensors = step(no_action)\n",
    "\n",
    "for s in sequence:\n",
    "    \n",
    "    print('Twitching '+str(s))\n",
    "    action = s*1.0\n",
    "    \n",
    "    for i in range(N_twitch):\n",
    "        sensors = step(action)\n",
    "    \n",
    "    for i in range(N_rest):\n",
    "        sensors = step(no_action)\n",
    "\n",
    "#for n in range(N_muscle):\n",
    "    \n",
    "#    print('Twitching muscle '+str(n+1))\n",
    "#    action = np.zeros((N_muscle,))\n",
    "#    action[n] = 1.0\n",
    "    \n",
    "#    for i in range(N_twitch):\n",
    "#        sensors = step(action)\n",
    "    \n",
    "#    for i in range(N_rest):\n",
    "#        sensors = step(no_action)"
   ]
  },
  {
   "cell_type": "code",
   "execution_count": 8,
   "metadata": {},
   "outputs": [],
   "source": [
    "import pandas as pd\n",
    "\n",
    "sensors = pd.read_csv('saved_sensors.csv')\n",
    "data = sensors.get_values()\n",
    "sx,sy = data.shape\n",
    "data = np.delete(data,sx-1,0).astype(float)"
   ]
  },
  {
   "cell_type": "code",
   "execution_count": 7,
   "metadata": {},
   "outputs": [
    {
     "name": "stdout",
     "output_type": "stream",
     "text": [
      "[ 0.15181873  0.08710606  0.09287816  0.15412324  0.14900839  0.09145565\n",
      "  0.47008624  0.93630293  1.25178026  1.00669784  0.30690825  0.39276072]\n",
      "[ 0.13322543  0.06693752  0.06185069  0.13487658  0.13629819  0.07997199\n",
      " -0.31889741 -0.293035   -0.293035   -0.9039047  -0.33125757 -0.54261208]\n"
     ]
    }
   ],
   "source": [
    "print(np.max(data[2*N_tot:,:],axis=0))\n",
    "print(np.min(data[2*N_tot:,:],axis=0))"
   ]
  },
  {
   "cell_type": "code",
   "execution_count": 23,
   "metadata": {},
   "outputs": [
    {
     "name": "stdout",
     "output_type": "stream",
     "text": [
      "[ 0.02549461  0.0269353   0.03166716  0.03037798  0.03190358  0.0226281\n",
      "  1.46476511  1.61340098  1.40349505  1.67646206  1.47195913  0.78534519]\n",
      "[  9.91200000e-09   5.18100007e-10   8.56900009e-10   7.61499999e-09\n",
      "   1.02000020e-10   1.36200010e-10   7.06420480e-09   1.81073906e-09\n",
      "   1.70297109e-10   3.03120029e-09   2.14975260e-10   1.06641085e-10]\n"
     ]
    }
   ],
   "source": [
    "print(np.max(abs(data[2*N_tot:,:]-equ_position),axis=0))\n",
    "print(np.min(abs(data[2*N_tot:,:]-equ_position),axis=0))"
   ]
  },
  {
   "cell_type": "code",
   "execution_count": 9,
   "metadata": {},
   "outputs": [],
   "source": [
    "# equilibrium positions\n",
    "equ_position = data[2*N_tot-1,:]"
   ]
  },
  {
   "cell_type": "code",
   "execution_count": 12,
   "metadata": {},
   "outputs": [],
   "source": [
    "import matplotlib.pyplot as plt\n",
    "fig1, ax1 = plt.subplots()\n",
    "fig2, ax2 = plt.subplots()\n",
    "for i in range(6):\n",
    "    ax1.plot(data[2*N_tot+110000:,i]-equ_position[i] + i*0.03)\n",
    "    ax2.plot(data[2*N_tot+110000:,6+i]-equ_position[6+i] + i)\n",
    "fig1.savefig('sensors1.png')\n",
    "fig2.savefig('sensors2.png')"
   ]
  },
  {
   "cell_type": "code",
   "execution_count": null,
   "metadata": {
    "collapsed": true
   },
   "outputs": [],
   "source": [
    "import matplotlib.pyplot as plt\n",
    "\n",
    "fig1, ax1 = plt.subplots()\n",
    "fig2, ax2 = plt.subplots()\n",
    "for i in range(6):\n",
    "    ax1.plot(record[i,2:]+i*0.05)\n",
    "    ax2.plot(record[6+i,2:]+i*0.5)\n",
    "fig1.savefig('sensors1.png')\n",
    "fig2.savefig('sensors2.png')"
   ]
  },
  {
   "cell_type": "code",
   "execution_count": 24,
   "metadata": {},
   "outputs": [
    {
     "data": {
      "text/plain": [
       "64"
      ]
     },
     "execution_count": 24,
     "metadata": {},
     "output_type": "execute_result"
    }
   ],
   "source": [
    "len(seq)"
   ]
  },
  {
   "cell_type": "markdown",
   "metadata": {},
   "source": [
    "### Generation of length_0"
   ]
  },
  {
   "cell_type": "code",
   "execution_count": null,
   "metadata": {
    "collapsed": true
   },
   "outputs": [],
   "source": [
    "### DO NOT TOUCH THIS ###\n",
    "length_0 = [0.14216617288226033, 0.08269375662806208, 0.07766732577665353, \n",
    "            0.13944816053740705, 0.1410019757515655, 0.08559110518023604]\n"
   ]
  },
  {
   "cell_type": "markdown",
   "metadata": {},
   "source": [
    "#### Twitchs Collection"
   ]
  },
  {
   "cell_type": "code",
   "execution_count": null,
   "metadata": {
    "collapsed": true
   },
   "outputs": [],
   "source": [
    "print(\"Environment Generation\")\n",
    "env = TwitchingEnv(visualize=False, musclesName = muscle_names, stepsize = 0.01)\n"
   ]
  },
  {
   "cell_type": "code",
   "execution_count": null,
   "metadata": {
    "collapsed": true
   },
   "outputs": [],
   "source": [
    "env.reset()"
   ]
  },
  {
   "cell_type": "code",
   "execution_count": null,
   "metadata": {
    "collapsed": true
   },
   "outputs": [],
   "source": [
    "print(env.musclesName)\n",
    "print(env.istep)\n",
    "print(env.stepsize)"
   ]
  },
  {
   "cell_type": "code",
   "execution_count": null,
   "metadata": {
    "collapsed": true
   },
   "outputs": [],
   "source": [
    "duration = (len(muscle_names)+env.n_iter_waiting)*(env.iterDuration) \n",
    "\n",
    "print(\"Twitching Experiment\")\n",
    "\n",
    "for i in range(int(duration//env.stepsize)):\n",
    "    (obs, reward, done, nothing) = env.step([0])"
   ]
  },
  {
   "cell_type": "code",
   "execution_count": null,
   "metadata": {
    "collapsed": true
   },
   "outputs": [],
   "source": [
    "print(env.actuatorsValues)\n",
    "print(env.sensorsValues)"
   ]
  },
  {
   "cell_type": "code",
   "execution_count": null,
   "metadata": {
    "collapsed": true
   },
   "outputs": [],
   "source": [
    "sensors"
   ]
  },
  {
   "cell_type": "markdown",
   "metadata": {},
   "source": [
    "#### Correlation Matrix Computation"
   ]
  },
  {
   "cell_type": "code",
   "execution_count": null,
   "metadata": {
    "collapsed": true
   },
   "outputs": [],
   "source": [
    "class TwitchingEnv(ArmEnv):\n",
    "    def __init__(self, visualize = False, musclesName = '', iterDuration = 4, twitchDuration = 0.05, stepsize = 0.01):\n",
    "        print(\"Parameters copy...\")\n",
    "        self.model_path = './arm2dof6musc.osim'\n",
    "        folder = ''\n",
    "        self.musclesName = musclesName\n",
    "        self.iterNumber = 0\n",
    "        \n",
    "        self.iterDuration = iterDuration # time step\n",
    "\n",
    "        self.twitchDuration = twitchDuration\n",
    "        self.twitchStartPercentage = 0 # not used\n",
    "        \n",
    "        self.n_iter_waiting = 5\n",
    "\n",
    "        self.twitchingEpisodeEnded = True\n",
    "        \n",
    "        print(\"Files loading...\")\n",
    "        self.sensorsFile = open('sensors_arm.csv', 'w')\n",
    "        self.actuatorsFile = open('actuators_arm.csv', 'w')\n",
    "\n",
    "        self.musclesLength = [ 0 for i in range(len(musclesName))]\n",
    "        self.musclesLengthConverged = [ 0 for i in range(len(musclesName))]\n",
    "\n",
    "        print(\"Headers wirting...\")\n",
    "\n",
    "        self.writeHeaders([m + '_len' for m in self.musclesName] + [m + '_dlen' for m in self.musclesName],self.sensorsFile)\n",
    "        self.writeHeaders([m + '_a' for m in self.musclesName],self.actuatorsFile)\n",
    "        \n",
    "        print(\"GaitEnv __init__ calling...\")\n",
    "        super(TwitchingEnv, self).__init__(visualize = visualize)\n",
    "        \n",
    "        \n",
    "        \n",
    "    def get_observation(self):\n",
    "        super(TwitchingEnv, self).get_observation()\n",
    "\n",
    "        #m1_length = self.osim_model.model.getActuators().get(1).getStateVariableValues(self.osim_model.state).get(1);\n",
    "        #m1_name = self.osim_model.model.getActuators().get(1).getStateVariableNames().get(1)\n",
    "        \n",
    "    def get_values(self):\n",
    "        # Get input / outputs from open sim\n",
    "        musclesLength_new = [self.osim_model.model.getActuators().get(m).getStateVariableValues(self.osim_model.state).get(1)\n",
    "                             for m in self.musclesName]\n",
    "        musclesdLength = [ (x-y)/self.stepsize \n",
    "                          for x,y in zip( musclesLength_new, self.musclesLength) ]\n",
    "        \n",
    "        #values of the actuators\n",
    "        self.actuatorsValues = [self.osim_model.model.getActuators().get(m).getStateVariableValues(self.osim_model.state).get(0) \n",
    "                           for m in self.musclesName]\n",
    "\n",
    "        #musclesLength: length, musclesdLength: speed (d for differentiation ?)\n",
    "        self.sensorsValues = musclesLength_new + musclesdLength \n",
    "            \n",
    "        self.musclesLength = musclesLength_new\n",
    "\n",
    "    def writeHeaders(self,variable_names,file):\n",
    "        file.write(\"{}\\n\".format(\",\".join(variable_names)))\n",
    "    def writeContent(self,variables,file):\n",
    "        file.write(\"{}\\n\".format(\",\".join([str(x) for x in variables])))\n",
    "\n",
    "\n",
    "    def activate_muscles(self, action, twitch, muscleNum): # the argument action is not used\n",
    "        muscleSet = self.osim_model.model.getMuscles()\n",
    "        for j in range(self.noutput):\n",
    "            muscle = muscleSet.get(j)\n",
    "            if j == muscleNum and twitch == True:\n",
    "                muscle.setActivation(self.osim_model.state, 0.99) # action ?\n",
    "    \n",
    "    def compute_reward(self):\n",
    "        \n",
    "        return 0\n",
    "    \n",
    "    def _step(self, action):\n",
    "        \n",
    "        self.last_action = action\n",
    "\n",
    "        totalTime = self.istep*self.stepsize # where are initialized istep and stepsize ? But it works\n",
    "        iter_time = math.fmod(totalTime,self.iterDuration) # totalTime modulo iterDuration (number of isteps?) : rest\n",
    "        \n",
    "        iter_episode = int(totalTime/self.iterDuration) # number of episodes\n",
    "        \n",
    "        self.muscleNumber = iter_episode - self.n_iter_waiting # which muscle is activated\n",
    "        \n",
    "        \n",
    "        #no muscle is activated\n",
    "        if self.muscleNumber < 0:\n",
    "            self.activate_muscles(action,False,0)\n",
    "        else:\n",
    "            if iter_time == 0:\n",
    "                print(\"Beginning of twitching for muscle number \" + str(int(self.muscleNumber)))\n",
    "            if iter_time == self.twitchDuration:\n",
    "                print(\"End of stimulation \" + str(self.muscleNumber))\n",
    "            if(iter_time <= self.twitchDuration):\n",
    "                self.activate_muscles(action,True,self.muscleNumber)\n",
    "            else:\n",
    "                self.activate_muscles(action,False,self.muscleNumber)\n",
    "            \n",
    "        self.get_values()\n",
    "        \n",
    "        # Logging\n",
    "        self.writeContent(self.sensorsValues,self.sensorsFile)\n",
    "        self.writeContent(self.actuatorsValues,self.actuatorsFile)\n",
    "\n",
    "        # Integrate one step\n",
    "        self.osim_model.manager.setInitialTime(self.stepsize * self.istep)\n",
    "        self.osim_model.manager.setFinalTime(self.stepsize * (self.istep + 1))\n",
    "\n",
    "\n",
    "        try:\n",
    "            self.osim_model.manager.integrate(self.osim_model.state)\n",
    "        except Exception:\n",
    "            print (\"Exception raised\")\n",
    "            return self.get_observation(), -500, True, {}\n",
    "\n",
    "        self.istep = self.istep + 1\n",
    "        #TT = self.osim_model.model.getActuators().get(1)\n",
    "\n",
    "        res = [ self.get_observation(), self.compute_reward(), self.is_done(), {} ]\n",
    "        return res"
   ]
  },
  {
   "cell_type": "code",
   "execution_count": null,
   "metadata": {
    "collapsed": true
   },
   "outputs": [],
   "source": [
    "# Twitching process\n",
    "import pandas as pd\n",
    "\n",
    "sensors = pd.read_csv('sensors_arm.csv')\n",
    "actuators = pd.read_csv('actuators_arm.csv')\n",
    "print(length_0)\n",
    "print(len(length_0))"
   ]
  },
  {
   "cell_type": "code",
   "execution_count": null,
   "metadata": {
    "collapsed": true
   },
   "outputs": [],
   "source": [
    "def print_full(x):\n",
    "    pd.set_option('display.max_rows', len(x))\n",
    "    print(x)\n",
    "    pd.reset_option('display.max_rows')\n",
    "#print_full(sensors)"
   ]
  },
  {
   "cell_type": "code",
   "execution_count": null,
   "metadata": {
    "collapsed": true
   },
   "outputs": [],
   "source": [
    "data = sensors.get_values()\n",
    "sx,sy = data.shape\n",
    "data = np.delete(data,[0,1,sx-1],0)"
   ]
  },
  {
   "cell_type": "code",
   "execution_count": null,
   "metadata": {
    "collapsed": true
   },
   "outputs": [],
   "source": [
    "print(np.nonzero(data1))\n",
    "print(np.nonzero(np.isnan(data)))"
   ]
  },
  {
   "cell_type": "code",
   "execution_count": null,
   "metadata": {
    "collapsed": true
   },
   "outputs": [],
   "source": [
    "mins = np.min(data,0)\n",
    "maxs = np.max(data,0)\n",
    "\n",
    "print(mins,maxs)"
   ]
  },
  {
   "cell_type": "code",
   "execution_count": null,
   "metadata": {
    "collapsed": true
   },
   "outputs": [],
   "source": [
    "sensors"
   ]
  },
  {
   "cell_type": "code",
   "execution_count": null,
   "metadata": {
    "collapsed": true
   },
   "outputs": [],
   "source": [
    "actuators"
   ]
  },
  {
   "cell_type": "code",
   "execution_count": null,
   "metadata": {
    "collapsed": true
   },
   "outputs": [],
   "source": [
    "print(sensors.shape)\n",
    "print(actuators.shape)"
   ]
  },
  {
   "cell_type": "code",
   "execution_count": null,
   "metadata": {
    "collapsed": true
   },
   "outputs": [],
   "source": [
    "# Compute the weights for only one leg\n",
    "length_0_mat = np.zeros((sensors.values)[:-1,0:6].shape)\n",
    "\n",
    "for i in range(length_0_mat.shape[0]):\n",
    "    length_0_mat[i,:] = length_0[0:6]\n",
    "\n",
    "delta_length = (sensors.values)[:-1,0:6] - length_0_mat\n",
    "rate_length = (sensors.values)[:-1,6:12]\n",
    "stim = actuators.values[:-1,:]\n",
    "\n",
    "weight_1 = np.zeros((6,6))\n",
    "weight_2 = np.zeros((6,6))\n",
    "all_weight = np.zeros((6,6))\n",
    "\n",
    "dt = 0.01\n",
    "lr = 0.01"
   ]
  },
  {
   "cell_type": "code",
   "execution_count": null,
   "metadata": {
    "collapsed": true
   },
   "outputs": [],
   "source": [
    "def computeActivation(stim, dt):\n",
    "\n",
    "    past_activation = 0;\n",
    "    activation = np.zeros(len(stim))\n",
    "\n",
    "    for i in range(len(stim)):\n",
    "\n",
    "        if(stim[i] > 0):\n",
    "            tau = 15;\n",
    "        else:\n",
    "            tau = 50;\n",
    "        \n",
    "        activation_derivative = tau * ( -past_activation + stim[i] )\n",
    "        activation[i] = past_activation + dt * activation_derivative\n",
    "        past_activation = activation[i]\n",
    "    \n",
    "    return activation"
   ]
  },
  {
   "cell_type": "code",
   "execution_count": null,
   "metadata": {
    "collapsed": true
   },
   "outputs": [],
   "source": [
    "import matplotlib.pyplot as plt"
   ]
  },
  {
   "cell_type": "code",
   "execution_count": null,
   "metadata": {
    "collapsed": true
   },
   "outputs": [],
   "source": [
    "### Test Data plot\n",
    "plt.figure()\n",
    "\n",
    "## weird: 0 is always activated\n",
    "plt.subplot(311)\n",
    "plt.plot(stim[:,0])\n",
    "plt.plot(stim[:,1])\n",
    "plt.plot(stim[:,2])\n",
    "plt.plot(stim[:,3])\n",
    "plt.plot(stim[:,4])\n",
    "plt.plot(stim[:,5])\n",
    "plt.ylabel('stim')\n",
    "\n",
    "plt.subplot(312)\n",
    "plt.plot(delta_length[:,0])\n",
    "plt.ylabel('TRILong')\n",
    "\n",
    "plt.subplot(313)\n",
    "plt.plot(delta_length[:,1])\n",
    "plt.ylabel('TRILat')\n",
    "\n",
    "plt.show()"
   ]
  },
  {
   "cell_type": "code",
   "execution_count": null,
   "metadata": {
    "collapsed": true
   },
   "outputs": [],
   "source": [
    "print(\"Computation of the weights...\")\n",
    "for i in range(6):\n",
    "    \n",
    "    #% Filter the activation\n",
    "    ## should we invert line and column ? No\n",
    "    activation = computeActivation(stim[:,i], dt);\n",
    "\n",
    "    #% 40 replications of a specific twitching\n",
    "    for l in range(4000):\n",
    "            #what is this j ?!?\n",
    "        for j in range(6):\n",
    "            for index, s in enumerate(np.where(activation > 0.05)[0]):\n",
    "                #% Anti-Oja rule\n",
    "                weight_1[i,j] = weight_1[i,j] - lr * activation[s] * (delta_length[s+1,j]+activation[s]*weight_1[i,j])\n",
    "                weight_2[i,j] = weight_2[i,j] - lr * activation[s] * (rate_length[s+1,j]+activation[s]*weight_2[i,j])\n",
    "\n",
    "print(\"Weights computed.\")\n",
    "\n",
    "                #why do we use blkdiag ?!\n",
    "#% Weights' matrices for both legs\n",
    "#weight_1 =  blkdiag(weight_1,weight_1);\n",
    "#weight_2 =  blkdiag(weight_2,weight_2);\n",
    "\n",
    "#% Saving weights' matrices\n",
    "#dlmwrite('weight_1.csv',weight_1,',');\n",
    "#dlmwrite('weight_2.csv',weight_2,',');"
   ]
  },
  {
   "cell_type": "markdown",
   "metadata": {},
   "source": [
    "I think those weights are not revelant: activation is always greater than 0, and thus it introduces noise"
   ]
  },
  {
   "cell_type": "code",
   "execution_count": null,
   "metadata": {
    "collapsed": true
   },
   "outputs": [],
   "source": [
    "print(weight_1)"
   ]
  },
  {
   "cell_type": "code",
   "execution_count": null,
   "metadata": {
    "collapsed": true
   },
   "outputs": [],
   "source": [
    "print(weight_2)"
   ]
  },
  {
   "cell_type": "code",
   "execution_count": null,
   "metadata": {
    "collapsed": true
   },
   "outputs": [],
   "source": [
    "print(np.where(activation > 0.05))"
   ]
  },
  {
   "cell_type": "markdown",
   "metadata": {
    "collapsed": true
   },
   "source": [
    "### Tentative of computation through Matrix Diagonalization"
   ]
  },
  {
   "cell_type": "code",
   "execution_count": null,
   "metadata": {
    "collapsed": true
   },
   "outputs": [],
   "source": []
  },
  {
   "cell_type": "code",
   "execution_count": null,
   "metadata": {
    "collapsed": true
   },
   "outputs": [],
   "source": [
    "for i in range(6):\n",
    "    \n",
    "    #% Filter the activation\n",
    "    ## should we invert line and column ? No\n",
    "    activation = computeActivation(stim[:,i], dt);\n",
    "    \n",
    "    #% 40 replications of a specific twitching\n",
    "    for j in range(6):\n",
    "        covariant_matrix = np.dot(np.transpose(delta_length[np.where(activation > 0.05)[0],:]),\n",
    "                                 delta_length[np.where(activation > 0.05)[0],:])\n",
    "        #print(covariant_mat\n",
    "        e_v, e_vect = np.linalg.eig(covariant_matrix)\n",
    "        \n",
    "        \n",
    "            \n",
    "            #% Anti-Oja rule\n",
    "            #weight_1[i,j] = weight_1[i,j] - lr * activation[s] * (delta_length[s+1,j]+activation[s]*weight_1[i,j])\n",
    "            #weight_2[i,j] = weight_2[i,j] - lr * activation[s] * (rate_length[s+1,j]+activation[s]*weight_2[i,j])"
   ]
  },
  {
   "cell_type": "code",
   "execution_count": null,
   "metadata": {
    "collapsed": true
   },
   "outputs": [],
   "source": [
    "e_vect[i]"
   ]
  }
 ],
 "metadata": {
  "kernelspec": {
   "display_name": "Python (opensim-rl)",
   "language": "python",
   "name": "opensim-rl"
  },
  "language_info": {
   "codemirror_mode": {
    "name": "ipython",
    "version": 2
   },
   "file_extension": ".py",
   "mimetype": "text/x-python",
   "name": "python",
   "nbconvert_exporter": "python",
   "pygments_lexer": "ipython2",
   "version": "2.7.13"
  }
 },
 "nbformat": 4,
 "nbformat_minor": 2
}
